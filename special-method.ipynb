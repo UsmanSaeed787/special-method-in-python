{
 "cells": [
  {
   "cell_type": "code",
   "execution_count": 2,
   "id": "f42789a8",
   "metadata": {},
   "outputs": [
    {
     "name": "stdout",
     "output_type": "stream",
     "text": [
      "Usman\n",
      "20\n"
     ]
    }
   ],
   "source": [
    "class Person:\n",
    "  def __init__(self, name, age):\n",
    "    self.name = name\n",
    "    self.age = age\n",
    "\n",
    "pers = Person(\"Usman\", 20)\n",
    "\n",
    "print(pers.name)\n",
    "print(pers.age)"
   ]
  },
  {
   "cell_type": "code",
   "execution_count": 3,
   "id": "de12f143",
   "metadata": {},
   "outputs": [
    {
     "name": "stdout",
     "output_type": "stream",
     "text": [
      "<__main__.Person object at 0x0000023346119F50>\n"
     ]
    }
   ],
   "source": [
    "class Person:\n",
    "  def __init__(self, name, age):\n",
    "    self.name = name\n",
    "    self.age = age\n",
    "\n",
    "pers = Person(\"Usman\", 20)\n",
    "\n",
    "print(pers)"
   ]
  },
  {
   "cell_type": "code",
   "execution_count": 9,
   "id": "b8764409",
   "metadata": {},
   "outputs": [
    {
     "name": "stdout",
     "output_type": "stream",
     "text": [
      "Usman(20)\n"
     ]
    }
   ],
   "source": [
    "class Person:\n",
    "  def __init__(self, name, age):\n",
    "    self.name = name\n",
    "    self.age = age\n",
    "\n",
    "  def __str__(self):\n",
    "    return f\"{self.name}({self.age})\"\n",
    "\n",
    "pers = Person(\"Usman\", 20)\n",
    "\n",
    "print(pers)"
   ]
  },
  {
   "cell_type": "code",
   "execution_count": 12,
   "id": "c550326d",
   "metadata": {},
   "outputs": [
    {
     "name": "stdout",
     "output_type": "stream",
     "text": [
      "Hello My Name is Usman\n"
     ]
    }
   ],
   "source": [
    "class Person:\n",
    "  def __init__(sillyobj, name, age):\n",
    "    sillyobj.name = name\n",
    "    sillyobj.age = age\n",
    "\n",
    "  def myfunc(abc):\n",
    "    print(\"Hello My Name is \" + abc.name)\n",
    "\n",
    "p1 = Person(\"Usman\", 20)\n",
    "p1.myfunc()"
   ]
  },
  {
   "cell_type": "code",
   "execution_count": 18,
   "id": "a596b5f0",
   "metadata": {},
   "outputs": [],
   "source": [
    "class Student(Person):\n",
    "  pass"
   ]
  },
  {
   "cell_type": "code",
   "execution_count": 19,
   "id": "68eea108",
   "metadata": {},
   "outputs": [
    {
     "name": "stdout",
     "output_type": "stream",
     "text": [
      "Hello My Name is Ali\n"
     ]
    }
   ],
   "source": [
    "x = Student(\"Ali\", \"Saeed\")\n",
    "x.myfunc()"
   ]
  },
  {
   "cell_type": "code",
   "execution_count": null,
   "id": "d413e62b",
   "metadata": {},
   "outputs": [],
   "source": []
  }
 ],
 "metadata": {
  "kernelspec": {
   "display_name": "Python 3 (ipykernel)",
   "language": "python",
   "name": "python3"
  },
  "language_info": {
   "codemirror_mode": {
    "name": "ipython",
    "version": 3
   },
   "file_extension": ".py",
   "mimetype": "text/x-python",
   "name": "python",
   "nbconvert_exporter": "python",
   "pygments_lexer": "ipython3",
   "version": "3.11.4"
  }
 },
 "nbformat": 4,
 "nbformat_minor": 5
}
